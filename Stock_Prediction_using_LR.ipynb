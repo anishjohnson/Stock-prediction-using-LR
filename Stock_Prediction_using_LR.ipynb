{
 "cells": [
  {
   "cell_type": "code",
   "execution_count": 18,
   "id": "bcf3f255",
   "metadata": {},
   "outputs": [],
   "source": [
    "#Importing the packages\n",
    "import quandl\n",
    "import pandas as pd\n",
    "import numpy as np\n",
    "import matplotlib.pyplot as plt\n",
    "import datetime\n",
    "\n",
    "from sklearn.model_selection import train_test_split\n",
    "from sklearn import preprocessing\n",
    "from sklearn.linear_model import LinearRegression"
   ]
  },
  {
   "cell_type": "code",
   "execution_count": 6,
   "id": "6e271773",
   "metadata": {},
   "outputs": [
    {
     "data": {
      "text/html": [
       "<div>\n",
       "<style scoped>\n",
       "    .dataframe tbody tr th:only-of-type {\n",
       "        vertical-align: middle;\n",
       "    }\n",
       "\n",
       "    .dataframe tbody tr th {\n",
       "        vertical-align: top;\n",
       "    }\n",
       "\n",
       "    .dataframe thead th {\n",
       "        text-align: right;\n",
       "    }\n",
       "</style>\n",
       "<table border=\"1\" class=\"dataframe\">\n",
       "  <thead>\n",
       "    <tr style=\"text-align: right;\">\n",
       "      <th></th>\n",
       "      <th>Adj. Close</th>\n",
       "    </tr>\n",
       "    <tr>\n",
       "      <th>Date</th>\n",
       "      <th></th>\n",
       "    </tr>\n",
       "  </thead>\n",
       "  <tbody>\n",
       "    <tr>\n",
       "      <th>1997-05-16</th>\n",
       "      <td>1.729167</td>\n",
       "    </tr>\n",
       "    <tr>\n",
       "      <th>1997-05-19</th>\n",
       "      <td>1.708333</td>\n",
       "    </tr>\n",
       "    <tr>\n",
       "      <th>1997-05-20</th>\n",
       "      <td>1.635833</td>\n",
       "    </tr>\n",
       "    <tr>\n",
       "      <th>1997-05-21</th>\n",
       "      <td>1.427500</td>\n",
       "    </tr>\n",
       "    <tr>\n",
       "      <th>1997-05-22</th>\n",
       "      <td>1.395833</td>\n",
       "    </tr>\n",
       "    <tr>\n",
       "      <th>...</th>\n",
       "      <td>...</td>\n",
       "    </tr>\n",
       "    <tr>\n",
       "      <th>2018-03-21</th>\n",
       "      <td>1581.860000</td>\n",
       "    </tr>\n",
       "    <tr>\n",
       "      <th>2018-03-22</th>\n",
       "      <td>1544.100000</td>\n",
       "    </tr>\n",
       "    <tr>\n",
       "      <th>2018-03-23</th>\n",
       "      <td>1495.560000</td>\n",
       "    </tr>\n",
       "    <tr>\n",
       "      <th>2018-03-26</th>\n",
       "      <td>1555.860000</td>\n",
       "    </tr>\n",
       "    <tr>\n",
       "      <th>2018-03-27</th>\n",
       "      <td>1497.050000</td>\n",
       "    </tr>\n",
       "  </tbody>\n",
       "</table>\n",
       "<p>5248 rows × 1 columns</p>\n",
       "</div>"
      ],
      "text/plain": [
       "             Adj. Close\n",
       "Date                   \n",
       "1997-05-16     1.729167\n",
       "1997-05-19     1.708333\n",
       "1997-05-20     1.635833\n",
       "1997-05-21     1.427500\n",
       "1997-05-22     1.395833\n",
       "...                 ...\n",
       "2018-03-21  1581.860000\n",
       "2018-03-22  1544.100000\n",
       "2018-03-23  1495.560000\n",
       "2018-03-26  1555.860000\n",
       "2018-03-27  1497.050000\n",
       "\n",
       "[5248 rows x 1 columns]"
      ]
     },
     "execution_count": 6,
     "metadata": {},
     "output_type": "execute_result"
    }
   ],
   "source": [
    "#Importing the data from quandl\n",
    "quandl.ApiConfig.api_key=\"dqm7Pv5xxLbsF_HQG9kZ\"\n",
    "df=quandl.get(\"WIKI/AMZN\")\n",
    "df=df[[\"Adj. Close\"]]\n",
    "df"
   ]
  },
  {
   "cell_type": "code",
   "execution_count": 7,
   "id": "d9744175",
   "metadata": {},
   "outputs": [
    {
     "data": {
      "image/png": "[encoded data removed]",
      "text/plain": [
       "<Figure size 1080x432 with 1 Axes>"
      ]
     },
     "metadata": {
      "needs_background": "light"
     },
     "output_type": "display_data"
    }
   ],
   "source": [
    "#Ploting the Adj .Close Column\n",
    "df[\"Adj. Close\"].plot(figsize=(15,6),color=\"g\")\n",
    "plt.legend(loc=\"upper left\")\n",
    "plt.show()"
   ]
  },
  {
   "cell_type": "code",
   "execution_count": 8,
   "id": "1638f58f",
   "metadata": {},
   "outputs": [
    {
     "data": {
      "text/html": [
       "<div>\n",
       "<style scoped>\n",
       "    .dataframe tbody tr th:only-of-type {\n",
       "        vertical-align: middle;\n",
       "    }\n",
       "\n",
       "    .dataframe tbody tr th {\n",
       "        vertical-align: top;\n",
       "    }\n",
       "\n",
       "    .dataframe thead th {\n",
       "        text-align: right;\n",
       "    }\n",
       "</style>\n",
       "<table border=\"1\" class=\"dataframe\">\n",
       "  <thead>\n",
       "    <tr style=\"text-align: right;\">\n",
       "      <th></th>\n",
       "      <th>Adj. Close</th>\n",
       "      <th>Prediction</th>\n",
       "    </tr>\n",
       "    <tr>\n",
       "      <th>Date</th>\n",
       "      <th></th>\n",
       "      <th></th>\n",
       "    </tr>\n",
       "  </thead>\n",
       "  <tbody>\n",
       "    <tr>\n",
       "      <th>1997-05-16</th>\n",
       "      <td>1.729167</td>\n",
       "      <td>1.541667</td>\n",
       "    </tr>\n",
       "    <tr>\n",
       "      <th>1997-05-19</th>\n",
       "      <td>1.708333</td>\n",
       "      <td>1.515833</td>\n",
       "    </tr>\n",
       "    <tr>\n",
       "      <th>1997-05-20</th>\n",
       "      <td>1.635833</td>\n",
       "      <td>1.588333</td>\n",
       "    </tr>\n",
       "    <tr>\n",
       "      <th>1997-05-21</th>\n",
       "      <td>1.427500</td>\n",
       "      <td>1.911667</td>\n",
       "    </tr>\n",
       "    <tr>\n",
       "      <th>1997-05-22</th>\n",
       "      <td>1.395833</td>\n",
       "      <td>2.000000</td>\n",
       "    </tr>\n",
       "    <tr>\n",
       "      <th>...</th>\n",
       "      <td>...</td>\n",
       "      <td>...</td>\n",
       "    </tr>\n",
       "    <tr>\n",
       "      <th>2018-03-21</th>\n",
       "      <td>1581.860000</td>\n",
       "      <td>NaN</td>\n",
       "    </tr>\n",
       "    <tr>\n",
       "      <th>2018-03-22</th>\n",
       "      <td>1544.100000</td>\n",
       "      <td>NaN</td>\n",
       "    </tr>\n",
       "    <tr>\n",
       "      <th>2018-03-23</th>\n",
       "      <td>1495.560000</td>\n",
       "      <td>NaN</td>\n",
       "    </tr>\n",
       "    <tr>\n",
       "      <th>2018-03-26</th>\n",
       "      <td>1555.860000</td>\n",
       "      <td>NaN</td>\n",
       "    </tr>\n",
       "    <tr>\n",
       "      <th>2018-03-27</th>\n",
       "      <td>1497.050000</td>\n",
       "      <td>NaN</td>\n",
       "    </tr>\n",
       "  </tbody>\n",
       "</table>\n",
       "<p>5248 rows × 2 columns</p>\n",
       "</div>"
      ],
      "text/plain": [
       "             Adj. Close  Prediction\n",
       "Date                               \n",
       "1997-05-16     1.729167    1.541667\n",
       "1997-05-19     1.708333    1.515833\n",
       "1997-05-20     1.635833    1.588333\n",
       "1997-05-21     1.427500    1.911667\n",
       "1997-05-22     1.395833    2.000000\n",
       "...                 ...         ...\n",
       "2018-03-21  1581.860000         NaN\n",
       "2018-03-22  1544.100000         NaN\n",
       "2018-03-23  1495.560000         NaN\n",
       "2018-03-26  1555.860000         NaN\n",
       "2018-03-27  1497.050000         NaN\n",
       "\n",
       "[5248 rows x 2 columns]"
      ]
     },
     "execution_count": 8,
     "metadata": {},
     "output_type": "execute_result"
    }
   ],
   "source": [
    "#creating the prediction values\n",
    "forecast=30\n",
    "df[\"Prediction\"]=df[[\"Adj. Close\"]].shift(-forecast)\n",
    "df"
   ]
  },
  {
   "cell_type": "code",
   "execution_count": 11,
   "id": "45eee556",
   "metadata": {},
   "outputs": [],
   "source": [
    "x=np.array(df.drop([\"Prediction\"],1))\n",
    "x=preprocessing.scale(x)"
   ]
  },
  {
   "cell_type": "code",
   "execution_count": 13,
   "id": "ddf84d27",
   "metadata": {},
   "outputs": [],
   "source": [
    "x_forecast=x[-forecast:]\n",
    "x=x[:-forecast]"
   ]
  },
  {
   "cell_type": "code",
   "execution_count": 14,
   "id": "21cf12c8",
   "metadata": {},
   "outputs": [],
   "source": [
    "y=np.array(df[\"Prediction\"])\n",
    "y=y[:-forecast]"
   ]
  },
  {
   "cell_type": "code",
   "execution_count": 17,
   "id": "a201edac",
   "metadata": {},
   "outputs": [
    {
     "name": "stdout",
     "output_type": "stream",
     "text": [
      "[1499.09929104 1537.91168697 1549.28773405 1535.40492029 1556.28756134\n",
      " 1571.763659   1573.71808726 1589.90585173 1613.22090621 1602.63087919\n",
      " 1603.13010814 1582.94851201 1590.17139905 1614.9841404  1629.88665585\n",
      " 1637.70436888 1644.99098727 1673.70196324 1694.414654   1683.56970156\n",
      " 1686.5650753  1677.34527244 1666.0435786  1637.63001563 1681.79584548\n",
      " 1676.85666537 1636.74839854 1585.18973137 1649.23974435 1586.77239339]\n"
     ]
    }
   ],
   "source": [
    "#Applying the linear model\n",
    "x_train, x_test, y_train, y_test= train_test_split(x,y,test_size=0.2)\n",
    "\n",
    "clf=LinearRegression()\n",
    "clf.fit(x_train, y_train)\n",
    "\n",
    "forecast_predicted=clf.predict(x_forecast)\n",
    "print(forecast_predicted)"
   ]
  },
  {
   "cell_type": "code",
   "execution_count": 19,
   "id": "f4b7b072",
   "metadata": {},
   "outputs": [
    {
     "data": {
      "text/plain": [
       "(17282.0, 18029.5)"
      ]
     },
     "execution_count": 19,
     "metadata": {},
     "output_type": "execute_result"
    },
    {
     "data": {
      "image/png": "[encoded data removed]",
      "text/plain": [
       "<Figure size 432x288 with 1 Axes>"
      ]
     },
     "metadata": {
      "needs_background": "light"
     },
     "output_type": "display_data"
    }
   ],
   "source": [
    "#Visualizing the data\n",
    "dates=pd.date_range(start=\"2018-03-28\", end=\"2018-04-26\")\n",
    "plt.plot(dates,forecast_predicted,color=\"y\")\n",
    "df[\"Adj. Close\"].plot(color=\"g\")\n",
    "plt.xlim(xmin=datetime.date(2017,4,26))"
   ]
  },
  {
   "cell_type": "code",
   "execution_count": null,
   "id": "06a79df0",
   "metadata": {},
   "outputs": [],
   "source": []
  }
 ],
 "metadata": {
  "kernelspec": {
   "display_name": "Python 3",
   "language": "python",
   "name": "python3"
  },
  "language_info": {
   "codemirror_mode": {
    "name": "ipython",
    "version": 3
   },
   "file_extension": ".py",
   "mimetype": "text/x-python",
   "name": "python",
   "nbconvert_exporter": "python",
   "pygments_lexer": "ipython3",
   "version": "3.8.8"
  }
 },
 "nbformat": 4,
 "nbformat_minor": 5
}
